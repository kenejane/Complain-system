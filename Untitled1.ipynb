{
 "cells": [
  {
   "cell_type": "code",
   "execution_count": 1,
   "metadata": {
    "id": "gTLr9BkdPQ2x"
   },
   "outputs": [],
   "source": [
    "import requests\n",
    "import json\n",
    "def detect_lang(strng):\n",
    "    \n",
    "    url = \"https://google-translate1.p.rapidapi.com/language/translate/v2\"\n",
    "    payload = f\"q={strng}\"\n",
    "    headers = {\n",
    "    'content-type': \"application/x-www-form-urlencoded\",\n",
    "    'accept-encoding': \"application/gzip\",\n",
    "    'x-rapidapi-key': \"0a19c0d310mshb47f09b2ffe1a97p1375fcjsnccd63faadff1\",\n",
    "    'x-rapidapi-host': \"google-translate1.p.rapidapi.com\"\n",
    "    }\n",
    "\n",
    "    response = requests.request(\"POST\", url, data=payload, headers=headers)\n",
    "    data = json.loads(response.text)\n",
    "    \n",
    "    comp_lang = data['data']['detections'][0][0]['language']\n",
    "    return comp_lang"
   ]
  },
  {
   "cell_type": "code",
   "execution_count": 2,
   "metadata": {
    "id": "lDZH18NeafyP"
   },
   "outputs": [],
   "source": [
    "def trans_lang(string, trans_lanng, comp_lang):\n",
    "    url = \"https://google-translate1.p.rapidapi.com/language/translate/v2\"\n",
    "\n",
    "    payload = f\"q={string}&target={trans_lanng}&source={comp_lang}\"\n",
    "    headers = {\n",
    "    'content-type': \"application/x-www-form-urlencoded\",\n",
    "    'accept-encoding': \"application/gzip\",\n",
    "    'x-rapidapi-key': \"0a19c0d310mshb47f09b2ffe1a97p1375fcjsnccd63faadff1\",\n",
    "    'x-rapidapi-host': \"google-translate1.p.rapidapi.com\"\n",
    "    }\n",
    "    response = requests.request(\"POST\", url, data=payload, headers=headers)\n",
    "    data = json.loads(response.text)\n",
    "    return data['data']['translations'][0]['translatedText']"
   ]
  },
  {
   "cell_type": "code",
   "execution_count": 3,
   "metadata": {
    "colab": {
     "base_uri": "https://localhost:8080/"
    },
    "id": "weR6NF3kkmlH",
    "outputId": "835fe6af-a9ac-4835-aeb6-8c707d1d96ad"
   },
   "outputs": [
    {
     "name": "stdout",
     "output_type": "stream",
     "text": [
      "Dear Customer, Welcome\n"
     ]
    }
   ],
   "source": [
    "print(\"Dear Customer, Welcome\")\n",
    "complaints = {}\n",
    "lang={\"fr\":\"french\",\"es\":\"Spanish\"}\n",
    "def language_translate():\n",
    "    is_has_complaints=True\n",
    "    while is_has_complaints:\n",
    "      user_input = input(\"Do you have any complaints for us? [1]. Yes [2]. No: \")\n",
    "      if user_input == '1':\n",
    "          user_complaint = input('what is your complaint?: ')\n",
    "          user_id =input(\"Enter your id: \")\n",
    "          if user_id in complaints.keys():\n",
    "              print('User id already exist')\n",
    "          else:\n",
    "              complaints[user_id] = user_complaint\n",
    "              print('Your complaint has been noted and will be attended to.')\n",
    "              comp_lang = detect_lang(complaints[user_id])\n",
    "              trans_language = input('which language would you want to translate to? press 1 for french 2 for spanish: ')\n",
    "              trans_language = \"fr\" if trans_language =='1'  else \"es\"\n",
    "              print(f\"The {lang[trans_language]} The translation of your complaint is: \" + trans_lang(complaints[user_id], trans_language, comp_lang))\n",
    "              print(\"------------------------------------------------------------------------------\") \n",
    "      else:\n",
    "          print ('Thank you, we are always happy to assist') \n",
    "          is_has_complaints=False"
   ]
  },
  {
   "cell_type": "code",
   "execution_count": null,
   "metadata": {
    "colab": {
     "base_uri": "https://localhost:8080/",
     "height": 357
    },
    "id": "GHfZn9LOo_EW",
    "outputId": "9b109e79-779c-4f69-999a-9dfe8b7a75d5"
   },
   "outputs": [],
   "source": [
    "language_translate()"
   ]
  },
  {
   "cell_type": "code",
   "execution_count": null,
   "metadata": {
    "id": "FKjeTS0zaNpB"
   },
   "outputs": [],
   "source": []
  }
 ],
 "metadata": {
  "colab": {
   "collapsed_sections": [],
   "name": "Untitled1.ipynb",
   "provenance": []
  },
  "kernelspec": {
   "display_name": "Python 3",
   "language": "python",
   "name": "python3"
  },
  "language_info": {
   "codemirror_mode": {
    "name": "ipython",
    "version": 3
   },
   "file_extension": ".py",
   "mimetype": "text/x-python",
   "name": "python",
   "nbconvert_exporter": "python",
   "pygments_lexer": "ipython3",
   "version": "3.8.5"
  }
 },
 "nbformat": 4,
 "nbformat_minor": 1
}
